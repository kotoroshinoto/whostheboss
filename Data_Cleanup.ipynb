{
 "cells": [
  {
   "cell_type": "code",
   "execution_count": null,
   "metadata": {
    "collapsed": true
   },
   "outputs": [],
   "source": [
    "import re\n",
    "import sys\n",
    "import os\n",
    "\n",
    "list_extractor = re.compile(\"^unique (.+):\\[(.+)\\]$\")\n",
    "split_point = re.compile(\" u['\\\"]\")\n",
    "\n",
    "\n",
    "def process_file(filename):\n",
    "    retval = []\n",
    "    cityfile = open(\"cities.txt\")\n",
    "    line = cityfile.readline()\n",
    "    listmatch = list_extractor.match(line)\n",
    "    if not listmatch:\n",
    "        return []\n",
    "    listname = listmatch.group(1)\n",
    "    print(\"extracting %s data\" % listname)\n",
    "    content = listmatch.group(2)\n",
    "    split_obj = split_point.split(content)\n",
    "    print(type(split_obj))\n",
    "    return retval\n",
    "\n",
    "\n",
    "def clean_file(filename):\n",
    "    filecontent = process_file(filename)\n",
    "    # outfile = open('clean/%s' % filename, 'w')\n",
    "    outfile = sys.stdout\n",
    "    print(\"\\n\".join(filecontent), file=outfile)\n",
    "#     outfile.close()"
   ]
  },
  {
   "cell_type": "code",
   "execution_count": 7,
   "metadata": {},
   "outputs": [
    {
     "ename": "FileNotFoundError",
     "evalue": "[Errno 2] No such file or directory: 'data/unique_labels'",
     "output_type": "error",
     "traceback": [
      "\u001b[0;31m---------------------------------------------------------------------------\u001b[0m",
      "\u001b[0;31mFileNotFoundError\u001b[0m                         Traceback (most recent call last)",
      "\u001b[0;32m<ipython-input-7-072d822af4ff>\u001b[0m in \u001b[0;36m<module>\u001b[0;34m()\u001b[0m\n\u001b[0;32m----> 1\u001b[0;31m \u001b[0mos\u001b[0m\u001b[0;34m.\u001b[0m\u001b[0mchdir\u001b[0m\u001b[0;34m(\u001b[0m\u001b[0;34m'data/unique_labels'\u001b[0m\u001b[0;34m)\u001b[0m\u001b[0;34m\u001b[0m\u001b[0m\n\u001b[0m",
      "\u001b[0;31mFileNotFoundError\u001b[0m: [Errno 2] No such file or directory: 'data/unique_labels'"
     ]
    }
   ],
   "source": [
    "os.chdir('data/unique_labels')"
   ]
  },
  {
   "cell_type": "code",
   "execution_count": null,
   "metadata": {
    "collapsed": true
   },
   "outputs": [],
   "source": [
    "clean_file(\"cities.txt\")\n",
    "# clean_file(\"countries.txt\")\n",
    "# clean_file(\"industries.txt\")\n",
    "# clean_file(\"titles.txt\")"
   ]
  },
  {
   "cell_type": "code",
   "execution_count": null,
   "metadata": {
    "collapsed": true
   },
   "outputs": [],
   "source": []
  }
 ],
 "metadata": {
  "kernelspec": {
   "display_name": "Python [conda env:insight_env]",
   "language": "python",
   "name": "conda-env-insight_env-py"
  },
  "language_info": {
   "codemirror_mode": {
    "name": "ipython",
    "version": 3
   },
   "file_extension": ".py",
   "mimetype": "text/x-python",
   "name": "python",
   "nbconvert_exporter": "python",
   "pygments_lexer": "ipython3",
   "version": "3.6.2"
  }
 },
 "nbformat": 4,
 "nbformat_minor": 2
}
