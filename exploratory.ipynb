{
 "cells": [
  {
   "cell_type": "code",
   "execution_count": 5,
   "metadata": {
    "collapsed": true
   },
   "outputs": [],
   "source": [
    "from pull_scribe_data import DB_handler\n",
    "from kmodes import kmodes"
   ]
  },
  {
   "cell_type": "code",
   "execution_count": 3,
   "metadata": {},
   "outputs": [
    {
     "name": "stdout",
     "output_type": "stream",
     "text": [
      "(474137, 12)\n",
      "Index(['id', 'email', 'firstName', 'lastName', 'company', 'industry', 'title',\n",
      "       'companyCity', 'companyCountry', 'employeeCount', 'emailError',\n",
      "       'emailvalidity'],\n",
      "      dtype='object')\n"
     ]
    }
   ],
   "source": [
    "user = \"mgooch\"\n",
    "pwd = \"SSJ699Goku!\"\n",
    "dbstr = \"localhost/scribe\"\n",
    "dbh = DB_handler(user, pwd, dbstr)\n",
    "df = dbh.grab_usa_medium_tech_data()\n",
    "print(df.shape)\n",
    "print(df.columns)"
   ]
  },
  {
   "cell_type": "code",
   "execution_count": null,
   "metadata": {
    "collapsed": true
   },
   "outputs": [],
   "source": []
  }
 ],
 "metadata": {
  "kernelspec": {
   "display_name": "Python [conda env:insight_env]",
   "language": "python",
   "name": "conda-env-insight_env-py"
  },
  "language_info": {
   "codemirror_mode": {
    "name": "ipython",
    "version": 3
   },
   "file_extension": ".py",
   "mimetype": "text/x-python",
   "name": "python",
   "nbconvert_exporter": "python",
   "pygments_lexer": "ipython3",
   "version": "3.6.2"
  }
 },
 "nbformat": 4,
 "nbformat_minor": 2
}
