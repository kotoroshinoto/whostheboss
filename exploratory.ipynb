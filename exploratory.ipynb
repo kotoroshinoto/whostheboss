{
 "cells": [
  {
   "cell_type": "code",
   "execution_count": 14,
   "metadata": {
    "collapsed": true
   },
   "outputs": [],
   "source": [
    "%matplotlib inline"
   ]
  },
  {
   "cell_type": "code",
   "execution_count": 4,
   "metadata": {},
   "outputs": [],
   "source": [
    "import numpy as np\n",
    "import pandas as pd\n",
    "import matplotlib as mpl\n",
    "import matplotlib.pyplot as plt\n",
    "import seaborn as sns\n",
    "from numpy import nan\n",
    "from pull_scribe_data import DB_handler\n",
    "from kmodes import kmodes\n",
    "from kmodes import kprototypes\n"
   ]
  },
  {
   "cell_type": "code",
   "execution_count": 5,
   "metadata": {},
   "outputs": [
    {
     "name": "stdout",
     "output_type": "stream",
     "text": [
      "Index(['id', 'email', 'firstName', 'lastName', 'company', 'industry', 'title',\n",
      "       'companyCity', 'companyCountry', 'employeeCount', 'emailError',\n",
      "       'emailvalidity'],\n",
      "      dtype='object')\n",
      "(474137, 5)\n",
      "Index(['company', 'industry', 'companyCity', 'companyCountry',\n",
      "       'employeeCount'],\n",
      "      dtype='object')\n"
     ]
    }
   ],
   "source": [
    "user = \"mgooch\"\n",
    "pwd = \"SSJ699Goku!\"\n",
    "dbstr = \"localhost/scribe\"\n",
    "dbh = DB_handler(user, pwd, dbstr)\n",
    "df = dbh.grab_usa_medium_tech_data()\n",
    "print(df.columns)\n",
    "relevant_df = df.filter(['company', 'industry', 'companyCity', 'companyCountry', 'employeeCount'], axis=1)\n",
    "for col in relevant_df.columns:\n",
    "    if col == 'employeeCount':\n",
    "        relevant_df[col].fillna(value=nan, inplace=True)\n",
    "    else:\n",
    "        relevant_df[col].fillna(value=\"\", inplace=True)\n",
    "print(relevant_df.shape)\n",
    "print(relevant_df.columns)"
   ]
  },
  {
   "cell_type": "code",
   "execution_count": null,
   "metadata": {},
   "outputs": [],
   "source": [
    "ind_plot = sns.countplot(data=relevant_df,x='industry')"
   ]
  },
  {
   "cell_type": "code",
   "execution_count": 60,
   "metadata": {},
   "outputs": [
    {
     "data": {
      "image/png": "[encoded data removed]",
      "text/plain": [
       "<matplotlib.figure.Figure at 0x7fd969888d68>"
      ]
     },
     "metadata": {},
     "output_type": "display_data"
    }
   ],
   "source": [
    "comp_plot = sns.countplot(data=relevant_df,x='companyCity')"
   ]
  }
 ],
 "metadata": {
  "kernelspec": {
   "display_name": "Python [conda env:insight_env]",
   "language": "python",
   "name": "conda-env-insight_env-py"
  },
  "language_info": {
   "codemirror_mode": {
    "name": "ipython",
    "version": 3
   },
   "file_extension": ".py",
   "mimetype": "text/x-python",
   "name": "python",
   "nbconvert_exporter": "python",
   "pygments_lexer": "ipython3",
   "version": "3.6.2"
  }
 },
 "nbformat": 4,
 "nbformat_minor": 2
}
