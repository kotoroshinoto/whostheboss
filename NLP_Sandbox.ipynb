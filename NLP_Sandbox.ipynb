{
 "cells": [
  {
   "cell_type": "code",
   "execution_count": 91,
   "metadata": {
    "collapsed": true
   },
   "outputs": [],
   "source": [
    "import numpy as np\n",
    "import pandas as pd\n",
    "import matplotlib as mpl\n",
    "import matplotlib.pyplot as plt\n",
    "import seaborn as sns\n",
    "from sklearn.feature_extraction.text import CountVectorizer\n",
    "from sklearn.feature_extraction.text import TfidfTransformer\n",
    "from sklearn.naive_bayes import MultinomialNB\n",
    "from sklearn.linear_model import SGDClassifier\n",
    "import sklearn.model_selection as model_selection\n",
    "from sklearn.pipeline import Pipeline\n",
    "from combine_strings import *\n",
    "from sklearn import metrics\n",
    "from sklearn.model_selection import GridSearchCV"
   ]
  },
  {
   "cell_type": "code",
   "execution_count": 153,
   "metadata": {
    "collapsed": true
   },
   "outputs": [],
   "source": [
    "def append_empty_string_class(xvec, yvec):\n",
    "    num_to_add = int(len(xvec)/4)\n",
    "    for i in range(num_to_add):\n",
    "        xvec.append(\"\")\n",
    "        yvec.append(\"Unknown\")\n",
    "    "
   ]
  },
  {
   "cell_type": "code",
   "execution_count": 154,
   "metadata": {
    "collapsed": true
   },
   "outputs": [],
   "source": [
    "target_level = 2\n",
    "level_codes = read_levels('all_codes')\n",
    "title_records = read_titles('all_examples', target_level)"
   ]
  },
  {
   "cell_type": "code",
   "execution_count": 155,
   "metadata": {},
   "outputs": [],
   "source": [
    "(verbose_x, verbose_y) = generate_combined(level_codes, title_records, target_level)\n",
    "append_empty_string_class(verbose_x, verbose_y)\n",
    "\n",
    "(simpler_x, simpler_y) = generate_uncombined_text_for_target_level(title_records, target_level)\n",
    "append_empty_string_class(simpler_x, simpler_y)"
   ]
  },
  {
   "cell_type": "code",
   "execution_count": 156,
   "metadata": {},
   "outputs": [],
   "source": [
    "strain_x, stest_x, strain_y, stest_y = model_selection.train_test_split(simpler_x, simpler_y, test_size=0.20)\n",
    "\n",
    "vtrain_x, vtest_x, vtrain_y, vtest_y = model_selection.train_test_split(verbose_x, verbose_y, test_size=0.20)"
   ]
  },
  {
   "cell_type": "code",
   "execution_count": 157,
   "metadata": {
    "collapsed": true
   },
   "outputs": [],
   "source": [
    "#support vector version\n",
    "# parameters = {'vect__ngram_range': [(1, 1), (1, 2)],\n",
    "#               'tfidf__use_idf': (True, False),\n",
    "#               'clf__alpha': (1e-2, 1e-3)}\n",
    "\n",
    "# vclf_pipe = Pipeline([('vect', CountVectorizer(stop_words='english')),\n",
    "#                  ('tfidf', TfidfTransformer()),\n",
    "#                  ('clf', SGDClassifier(loss='hinge', penalty='l2',\n",
    "#                                        alpha=1e-3, max_iter=5, tol=None))])\n",
    "\n",
    "# sclf_pipe = Pipeline([('vect', CountVectorizer(stop_words='english')),\n",
    "#                  ('tfidf', TfidfTransformer()),\n",
    "#                  ('clf', SGDClassifier(loss='hinge', penalty='l2',\n",
    "#                                        alpha=1e-3, max_iter=5, tol=None))])\n",
    "#bayesian version\n",
    "sparameters = {'vect__ngram_range': [(1, 1), (1, 2)],\n",
    "              'tfidf__use_idf': (True, False),\n",
    "              'clf__alpha': (1e-2, 1e-3)}\n",
    "vparameters = {'vect__ngram_range': [(1, 1), (1, 2)],\n",
    "              'tfidf__use_idf': (True, False),\n",
    "              'clf__alpha': (1e-2, 1e-3)}\n",
    "\n",
    "vclf_pipe = Pipeline([('vect', CountVectorizer(stop_words='english')),\n",
    "                 ('tfidf', TfidfTransformer()),\n",
    "                 ('clf', MultinomialNB(alpha=1e-3))])\n",
    "\n",
    "sclf_pipe = Pipeline([('vect', CountVectorizer(stop_words='english')),\n",
    "                 ('tfidf', TfidfTransformer()),\n",
    "                 ('clf', MultinomialNB(alpha=1e-3))])\n",
    "\n",
    "vclf = GridSearchCV(vclf_pipe, vparameters, n_jobs=-1)\n",
    "sclf = GridSearchCV(sclf_pipe, sparameters, n_jobs=-1)"
   ]
  },
  {
   "cell_type": "code",
   "execution_count": 158,
   "metadata": {},
   "outputs": [],
   "source": [
    "sfit = sclf.fit(strain_x, strain_y)\n",
    "\n",
    "vfit = vclf.fit(vtrain_x, vtrain_y)"
   ]
  },
  {
   "cell_type": "code",
   "execution_count": 159,
   "metadata": {},
   "outputs": [],
   "source": [
    "stest_pred = sfit.predict(stest_x)\n",
    "vtest_pred = vfit.predict(vtest_x)"
   ]
  },
  {
   "cell_type": "code",
   "execution_count": 160,
   "metadata": {},
   "outputs": [
    {
     "name": "stdout",
     "output_type": "stream",
     "text": [
      "86.1317863398\n",
      "100.0\n"
     ]
    }
   ],
   "source": [
    "stest_valid = stest_pred == stest_y\n",
    "vtest_valid = vtest_pred == vtest_y\n",
    "print(np.mean(stest_valid)*100)\n",
    "print(np.mean(vtest_valid) * 100)\n"
   ]
  },
  {
   "cell_type": "code",
   "execution_count": 161,
   "metadata": {},
   "outputs": [
    {
     "name": "stdout",
     "output_type": "stream",
     "text": [
      "             precision    recall  f1-score   support\n",
      "\n",
      "         00       0.86      0.81      0.83        80\n",
      "         01       0.87      0.89      0.88       139\n",
      "         02       0.89      0.83      0.86        41\n",
      "         03       0.88      0.65      0.75        23\n",
      "         04       0.78      0.88      0.83       144\n",
      "         05       0.88      0.96      0.92        51\n",
      "         06       0.85      0.81      0.83        68\n",
      "         07       0.93      0.91      0.92        56\n",
      "         08       0.95      0.84      0.89        49\n",
      "         09       0.91      0.71      0.79        41\n",
      "         11       0.73      0.78      0.76        91\n",
      "         12       0.79      0.77      0.78       173\n",
      "         13       0.92      0.74      0.82        31\n",
      "         14       0.86      0.73      0.79       116\n",
      "         15       0.89      0.73      0.80        64\n",
      "         21       0.90      0.75      0.82       235\n",
      "         22       0.83      0.85      0.84       399\n",
      "         30       0.93      0.78      0.85        36\n",
      "         31       0.88      0.80      0.84       110\n",
      "         32       0.89      0.83      0.85       178\n",
      "         34       0.86      0.71      0.78        52\n",
      "         40       0.92      0.92      0.92       110\n",
      "         41       0.80      0.87      0.83       224\n",
      "         42       0.85      0.70      0.77        71\n",
      "         43       0.72      0.78      0.75        23\n",
      "         44       0.81      0.46      0.59        28\n",
      "         51       0.92      0.71      0.80       125\n",
      "         52       0.88      0.80      0.84       268\n",
      "         62       0.81      0.78      0.79        64\n",
      "         63       0.87      0.58      0.69       113\n",
      "         64       0.78      0.89      0.83        84\n",
      "         65       0.83      0.79      0.81       140\n",
      "         66       0.75      0.40      0.52        15\n",
      "         67       0.88      0.77      0.82       132\n",
      "         72       0.91      0.90      0.91       415\n",
      "         73       0.84      0.84      0.84       393\n",
      "         74       0.74      0.66      0.70       127\n",
      "         75       0.82      0.78      0.80       116\n",
      "         76       0.74      0.76      0.75       111\n",
      "         82       0.82      0.81      0.82       113\n",
      "         84       0.80      0.71      0.75        89\n",
      "         86       0.83      0.65      0.73        46\n",
      "         92       0.90      0.89      0.89       328\n",
      "         94       0.83      0.93      0.88      1090\n",
      "         95       0.85      0.88      0.86       580\n",
      "         96       0.76      0.68      0.72       306\n",
      "    Unknown       0.93      1.00      0.96      1848\n",
      "\n",
      "avg / total       0.86      0.86      0.86      9136\n",
      "\n",
      "[[  65    0    1 ...,    0    0    2]\n",
      " [   0  124    0 ...,    0    0    0]\n",
      " [   0    0   34 ...,    0    0    0]\n",
      " ..., \n",
      " [   0    0    0 ...,  508    9    5]\n",
      " [   0    0    0 ...,   19  209    2]\n",
      " [   0    0    0 ...,    0    0 1848]]\n",
      "             precision    recall  f1-score   support\n",
      "\n",
      "         00       1.00      1.00      1.00        70\n",
      "         01       1.00      1.00      1.00       140\n",
      "         02       1.00      1.00      1.00        50\n",
      "         03       1.00      1.00      1.00        25\n",
      "         04       1.00      1.00      1.00       171\n",
      "         05       1.00      1.00      1.00        59\n",
      "         06       1.00      1.00      1.00        65\n",
      "         07       1.00      1.00      1.00        71\n",
      "         08       1.00      1.00      1.00        44\n",
      "         09       1.00      1.00      1.00        34\n",
      "         11       1.00      1.00      1.00       113\n",
      "         12       1.00      1.00      1.00       146\n",
      "         13       1.00      1.00      1.00        29\n",
      "         14       1.00      1.00      1.00       112\n",
      "         15       1.00      1.00      1.00        66\n",
      "         21       1.00      1.00      1.00       247\n",
      "         22       1.00      1.00      1.00       394\n",
      "         30       1.00      1.00      1.00        32\n",
      "         31       1.00      1.00      1.00        97\n",
      "         32       1.00      1.00      1.00       153\n",
      "         34       1.00      1.00      1.00        48\n",
      "         40       1.00      1.00      1.00       118\n",
      "         41       1.00      1.00      1.00       206\n",
      "         42       1.00      1.00      1.00        59\n",
      "         43       1.00      1.00      1.00        34\n",
      "         44       1.00      1.00      1.00        35\n",
      "         51       1.00      1.00      1.00       123\n",
      "         52       1.00      1.00      1.00       249\n",
      "         62       1.00      1.00      1.00        53\n",
      "         63       1.00      1.00      1.00        98\n",
      "         64       1.00      1.00      1.00       102\n",
      "         65       1.00      1.00      1.00       139\n",
      "         66       1.00      1.00      1.00        22\n",
      "         67       1.00      1.00      1.00       118\n",
      "         72       1.00      1.00      1.00       407\n",
      "         73       1.00      1.00      1.00       401\n",
      "         74       1.00      1.00      1.00       113\n",
      "         75       1.00      1.00      1.00       149\n",
      "         76       1.00      1.00      1.00       114\n",
      "         82       1.00      1.00      1.00       118\n",
      "         84       1.00      1.00      1.00        90\n",
      "         86       1.00      1.00      1.00        44\n",
      "         92       1.00      1.00      1.00       342\n",
      "         94       1.00      1.00      1.00      1098\n",
      "         95       1.00      1.00      1.00       599\n",
      "         96       1.00      1.00      1.00       282\n",
      "    Unknown       1.00      1.00      1.00      1857\n",
      "\n",
      "avg / total       1.00      1.00      1.00      9136\n",
      "\n",
      "[[  70    0    0 ...,    0    0    0]\n",
      " [   0  140    0 ...,    0    0    0]\n",
      " [   0    0   50 ...,    0    0    0]\n",
      " ..., \n",
      " [   0    0    0 ...,  599    0    0]\n",
      " [   0    0    0 ...,    0  282    0]\n",
      " [   0    0    0 ...,    0    0 1857]]\n"
     ]
    }
   ],
   "source": [
    "print(metrics.classification_report(stest_y, stest_pred))\n",
    "print(metrics.confusion_matrix(stest_y, stest_pred))\n",
    "\n",
    "print(metrics.classification_report(vtest_y, vtest_pred))\n",
    "print(metrics.confusion_matrix(vtest_y, vtest_pred))"
   ]
  },
  {
   "cell_type": "code",
   "execution_count": 162,
   "metadata": {},
   "outputs": [
    {
     "name": "stdout",
     "output_type": "stream",
     "text": [
      "95.2167250438\n"
     ]
    }
   ],
   "source": [
    "sv_pred = vfit.predict(stest_x)\n",
    "otest_valid = sv_pred == stest_y\n",
    "print(np.mean(otest_valid)*100)"
   ]
  },
  {
   "cell_type": "code",
   "execution_count": 163,
   "metadata": {},
   "outputs": [
    {
     "name": "stdout",
     "output_type": "stream",
     "text": [
      "             precision    recall  f1-score   support\n",
      "\n",
      "         00       0.97      0.95      0.96        80\n",
      "         01       0.95      0.96      0.96       139\n",
      "         02       1.00      1.00      1.00        41\n",
      "         03       1.00      0.96      0.98        23\n",
      "         04       0.93      0.96      0.94       144\n",
      "         05       0.98      1.00      0.99        51\n",
      "         06       1.00      0.91      0.95        68\n",
      "         07       0.96      0.96      0.96        56\n",
      "         08       0.97      0.78      0.86        49\n",
      "         09       0.97      0.93      0.95        41\n",
      "         11       0.96      0.88      0.92        91\n",
      "         12       0.97      0.96      0.97       173\n",
      "         13       0.97      1.00      0.98        31\n",
      "         14       0.95      0.91      0.93       116\n",
      "         15       0.97      0.91      0.94        64\n",
      "         21       0.97      0.87      0.92       235\n",
      "         22       0.96      0.95      0.95       399\n",
      "         30       0.95      0.97      0.96        36\n",
      "         31       0.97      0.86      0.91       110\n",
      "         32       0.95      0.94      0.95       178\n",
      "         34       0.96      0.88      0.92        52\n",
      "         40       0.95      0.96      0.96       110\n",
      "         41       0.99      0.91      0.95       224\n",
      "         42       0.98      0.90      0.94        71\n",
      "         43       0.96      0.96      0.96        23\n",
      "         44       0.96      0.79      0.86        28\n",
      "         51       1.00      0.86      0.93       125\n",
      "         52       0.98      0.92      0.95       268\n",
      "         62       0.95      0.86      0.90        64\n",
      "         63       0.96      0.88      0.92       113\n",
      "         64       0.94      0.98      0.96        84\n",
      "         65       0.96      0.92      0.94       140\n",
      "         66       0.93      0.87      0.90        15\n",
      "         67       0.95      0.95      0.95       132\n",
      "         72       0.99      0.96      0.97       415\n",
      "         73       0.95      0.96      0.96       393\n",
      "         74       0.96      0.91      0.94       127\n",
      "         75       0.96      0.95      0.95       116\n",
      "         76       0.92      0.95      0.94       111\n",
      "         82       0.97      0.96      0.96       113\n",
      "         84       0.90      0.90      0.90        89\n",
      "         86       1.00      0.87      0.93        46\n",
      "         92       0.98      0.97      0.98       328\n",
      "         94       0.96      0.97      0.96      1090\n",
      "         95       0.96      0.98      0.97       580\n",
      "         96       0.93      0.92      0.92       306\n",
      "    Unknown       0.92      1.00      0.96      1848\n",
      "\n",
      "avg / total       0.95      0.95      0.95      9136\n",
      "\n",
      "[[  76    0    0 ...,    0    0    1]\n",
      " [   0  134    0 ...,    0    0    0]\n",
      " [   0    0   41 ...,    0    0    0]\n",
      " ..., \n",
      " [   0    0    0 ...,  570    1    3]\n",
      " [   0    0    0 ...,    4  280    0]\n",
      " [   0    0    0 ...,    0    0 1848]]\n"
     ]
    }
   ],
   "source": [
    "print(metrics.classification_report(stest_y, sv_pred))\n",
    "print(metrics.confusion_matrix(stest_y, sv_pred))"
   ]
  },
  {
   "cell_type": "code",
   "execution_count": 164,
   "metadata": {},
   "outputs": [
    {
     "name": "stdout",
     "output_type": "stream",
     "text": [
      "['Unknown']\n",
      "[[ 0.06028302  0.00324995  0.00276899  0.00283419  0.05180329  0.00311126\n",
      "   0.00291337  0.00298462  0.00285104  0.00286346  0.00321274  0.0032042\n",
      "   0.03558223  0.00356242  0.00316098  0.00290025  0.00227501  0.00354784\n",
      "   0.00342612  0.0033479   0.00347612  0.00308284  0.00240989  0.00318473\n",
      "   0.00276195  0.00277908  0.1018577   0.13118433  0.00297339  0.00354146\n",
      "   0.00305893  0.03986519  0.00292642  0.02164344  0.00236911  0.00214855\n",
      "   0.00340979  0.00283703  0.00334435  0.00257072  0.00305565  0.00346371\n",
      "   0.00219282  0.0013782   0.00259214  0.00307423  0.44293536]]\n"
     ]
    }
   ],
   "source": [
    "nonsense_title_string = ['catastrophe disaster artist']\n",
    "pred = vfit.predict(nonsense_title_string)\n",
    "pred_proba = vfit.predict_proba(nonsense_title_string)\n",
    "print(pred)\n",
    "print(pred_proba)"
   ]
  },
  {
   "cell_type": "code",
   "execution_count": 165,
   "metadata": {},
   "outputs": [
    {
     "data": {
      "text/plain": [
       "0.44293536415512852"
      ]
     },
     "execution_count": 165,
     "metadata": {},
     "output_type": "execute_result"
    }
   ],
   "source": [
    "max(pred_proba[0])"
   ]
  },
  {
   "cell_type": "code",
   "execution_count": null,
   "metadata": {
    "collapsed": true
   },
   "outputs": [],
   "source": []
  }
 ],
 "metadata": {
  "kernelspec": {
   "display_name": "Python [conda env:insight_env]",
   "language": "python",
   "name": "conda-env-insight_env-py"
  },
  "language_info": {
   "codemirror_mode": {
    "name": "ipython",
    "version": 3
   },
   "file_extension": ".py",
   "mimetype": "text/x-python",
   "name": "python",
   "nbconvert_exporter": "python",
   "pygments_lexer": "ipython3",
   "version": "3.6.2"
  }
 },
 "nbformat": 4,
 "nbformat_minor": 2
}
