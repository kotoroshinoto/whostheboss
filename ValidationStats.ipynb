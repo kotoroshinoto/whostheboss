{
 "cells": [
  {
   "cell_type": "code",
   "execution_count": 38,
   "metadata": {},
   "outputs": [
    {
     "ename": "ImportError",
     "evalue": "cannot import name 'stderr'",
     "output_type": "error",
     "traceback": [
      "\u001b[0;31m---------------------------------------------------------------------------\u001b[0m",
      "\u001b[0;31mImportError\u001b[0m                               Traceback (most recent call last)",
      "\u001b[0;32m<ipython-input-38-f9c46822c788>\u001b[0m in \u001b[0;36m<module>\u001b[0;34m()\u001b[0m\n\u001b[1;32m      6\u001b[0m \u001b[0;32mfrom\u001b[0m \u001b[0msklearn\u001b[0m \u001b[0;32mimport\u001b[0m \u001b[0mmetrics\u001b[0m\u001b[0;34m\u001b[0m\u001b[0m\n\u001b[1;32m      7\u001b[0m \u001b[0;32mimport\u001b[0m \u001b[0mnumpy\u001b[0m \u001b[0;32mas\u001b[0m \u001b[0mnp\u001b[0m\u001b[0;34m\u001b[0m\u001b[0m\n\u001b[0;32m----> 8\u001b[0;31m \u001b[0;32mfrom\u001b[0m \u001b[0mscipy\u001b[0m\u001b[0;34m.\u001b[0m\u001b[0mstats\u001b[0m \u001b[0;32mimport\u001b[0m \u001b[0mstderr\u001b[0m\u001b[0;34m\u001b[0m\u001b[0m\n\u001b[0m",
      "\u001b[0;31mImportError\u001b[0m: cannot import name 'stderr'"
     ]
    }
   ],
   "source": [
    "%matplotlib inline\n",
    "import seaborn as sn\n",
    "import pandas as pd\n",
    "import matplotlib.pyplot as plt\n",
    "from scribe_classifier.data.canada import AllCodes, TitleSet, SimpleModel, CombinedModels\n",
    "from sklearn import metrics\n",
    "import numpy as np\n",
    "from scipy.stats import stderr, mean"
   ]
  },
  {
   "cell_type": "code",
   "execution_count": 2,
   "metadata": {
    "collapsed": true
   },
   "outputs": [],
   "source": [
    "all_codes = AllCodes.load_from_pickle(\"./source_data/pickles/canada/tidy_sets/all_codes.P\", is_path=True)\n",
    "emptyset_label = \"NA\"\n",
    "all_codes.add_emptyset()\n",
    "test = dict()\n",
    "train = dict()\n",
    "valid = dict()\n",
    "mdl = dict()\n",
    "valid_preds = dict()\n",
    "test_preds = dict()\n",
    "acv = dict()\n",
    "for i in range(1,4):\n",
    "    acv[i] = all_codes.get_codes_for_level(target_level=i)\n",
    "    target_level = i\n",
    "\n",
    "    valid[i] = TitleSet.load_from_pickle('source_data/pickles/canada/test_sets/valid.set.lvl%d.P' % target_level, is_path=True)\n",
    "    test[i] = TitleSet.load_from_pickle('source_data/pickles/canada/test_sets/test.set.lvl%d.P' % target_level, is_path=True)\n",
    "    train[i] = TitleSet.load_from_pickle('source_data/pickles/canada/test_sets/train.set.lvl%d.P' % target_level, is_path=True)\n",
    "\n",
    "    valid[i] = valid[i].copy_and_append_empty_string_class(label=emptyset_label, prop_records=0.25)\n",
    "    test[i] = test[i].copy_and_append_empty_string_class(label=emptyset_label, prop_records=0.25)\n",
    "    mdl[i] = SimpleModel.load_from_pickle(\n",
    "        \"./source_data/pickles/canada/trained_models/simple.lvl%d.P\" % target_level,\n",
    "        is_path=True\n",
    "    )\n",
    "    valid_preds[i] = mdl[i].predict_titleset(valid[i])\n",
    "    test_preds[i] = mdl[i].predict_titleset(test[i])"
   ]
  },
  {
   "cell_type": "code",
   "execution_count": 3,
   "metadata": {
    "collapsed": true
   },
   "outputs": [],
   "source": [
    "valid_ys = dict()\n",
    "test_ys = dict()\n",
    "for i in range(1,4):\n",
    "    vY=valid[i].get_code_vec(target_level=i)\n",
    "    tY=test[i].get_code_vec(target_level=i)\n",
    "    valid_ys[i] = vY\n",
    "    test_ys[i] = tY"
   ]
  },
  {
   "cell_type": "code",
   "execution_count": 34,
   "metadata": {
    "collapsed": true
   },
   "outputs": [],
   "source": [
    "test_evals = dict()\n",
    "valid_evals = dict()\n",
    "test_acc = dict()\n",
    "valid_acc = dict()\n",
    "def eval_level(target_level:int=1):\n",
    "    valid_p = valid_preds[target_level] \n",
    "    test_p = test_preds[target_level]\n",
    "    valid_y = valid_ys[target_level]\n",
    "    test_y = test_ys[target_level]\n",
    "    #  [precision, recall, fbeta_score, support]\n",
    "    valid_eval = list(metrics.precision_recall_fscore_support(valid_y, valid_p, labels=acv[target_level], average=None))\n",
    "    test_eval = list(metrics.precision_recall_fscore_support(test_y, test_p, labels=acv[target_level], average=None))\n",
    "#     print(\"valid size:\", len(valid_p))\n",
    "#     print(\"test size:\", len(test_p))\n",
    "#     print(\"valid eval size: \", len(valid_eval))\n",
    "#     print(\"test eval: size\", len(test_eval))\n",
    "#     print(type(valid_eval[0]))\n",
    "#     print(type(test_eval[0]))\n",
    "    test_evals[target_level] = test_eval\n",
    "    valid_evals[target_level] = valid_eval\n",
    "    valid_acc[target_level] = metrics.accuracy_score(valid_y, valid_p)\n",
    "    test_acc[target_level] = metrics.accuracy_score(test_y, test_p)\n",
    "\n",
    "for i in range(1,4):\n",
    "    eval_level(i)\n"
   ]
  },
  {
   "cell_type": "code",
   "execution_count": 40,
   "metadata": {
    "collapsed": true
   },
   "outputs": [],
   "source": [
    "#std error for error bars std_dev / sqrt(samp_size)\n",
    "def get_prec(evals, acv):\n",
    "    df = pd.DataFrame()\n",
    "    df['Class'] = pd.Series(acv)\n",
    "    df['Precision'] = pd.Series(evals[0])\n",
    "    avg = df['Precision'].mean()\n",
    "    std_err = df['Precision'].std() / np.sqrt(len(df['Class']))\n",
    "    return avg, std_err\n",
    "def get_recall(evals, acv):\n",
    "    df = pd.DataFrame()\n",
    "    df['Class'] = pd.Series(acv)\n",
    "    df['Recall'] = pd.Series(evals[1])\n",
    "    avg = df['Recall'].mean()\n",
    "    std_err = df['Recall'].std() / np.sqrt(len(df['Class']))\n",
    "    return avg, std_err\n",
    "def get_f1(evals, acv):\n",
    "    df = pd.DataFrame()\n",
    "    df['Class'] = pd.Series(acv)\n",
    "    df['F1 Score'] = pd.Series(evals[2])\n",
    "    avg = df['F1 Score'].mean()\n",
    "    std_err = df['F1 Score'].std() / np.sqrt(len(df['Class']))\n",
    "    return avg, std_err"
   ]
  },
  {
   "cell_type": "code",
   "execution_count": 51,
   "metadata": {},
   "outputs": [],
   "source": [
    "def plot_prec(evals, acv):\n",
    "    avgs = []\n",
    "    std_errs = []\n",
    "    levels = []\n",
    "    for i in range(1,4):\n",
    "        avg, std_err = get_prec(evals[i], acv[i])\n",
    "        avgs.append(avg)\n",
    "        std_errs.append(std_err)\n",
    "        levels.append(i)\n",
    "    df = pd.DataFrame()\n",
    "    df['Class Level'] = pd.Series(levels)\n",
    "    df['Avg Precision'] = pd.Series(avgs)\n",
    "    df['Std Err Precision'] = pd.Series(std_errs)\n",
    "    fig, ax = plt.subplots()\n",
    "    fig.set_size_inches(11.7, 8.27)\n",
    "    ax.set_autoscaley_on(False)\n",
    "    ax.set_ylim([0,1])\n",
    "    sn.barplot(data=df, x='Class Level', y='Avg Precision', ax=ax, yerr=df['Std Err Precision'])\n",
    "    \n",
    "def plot_recall(evals, acv):\n",
    "    avgs = []\n",
    "    std_errs = []\n",
    "    levels = []\n",
    "    for i in range(1,4):\n",
    "        avg, std_err = get_recall(evals[i], acv[i])\n",
    "        avgs.append(avg)\n",
    "        std_errs.append(std_err)\n",
    "        levels.append(i)\n",
    "    df = pd.DataFrame()\n",
    "    df['Class Level'] = pd.Series(levels)\n",
    "    df['Avg Recall'] = pd.Series(avgs)\n",
    "    df['Std Err Recall'] = pd.Series(std_errs)\n",
    "    fig, ax = plt.subplots()\n",
    "    fig.set_size_inches(11.7, 8.27)\n",
    "    ax.set_autoscaley_on(False)\n",
    "    ax.set_ylim([0,1])\n",
    "    sn.barplot(data=df, x='Class Level', y='Avg Recall', ax=ax, yerr=df['Std Err Recall'])\n",
    "    \n",
    "def plot_f1(evals, acv):\n",
    "    avgs = []\n",
    "    std_errs = []\n",
    "    levels = []\n",
    "    for i in range(1,4):\n",
    "        avg, std_err = get_f1(evals[i], acv[i])\n",
    "        avgs.append(avg)\n",
    "        std_errs.append(std_err)\n",
    "        levels.append(i)\n",
    "    df = pd.DataFrame()\n",
    "    df['Class Level'] = pd.Series(levels)\n",
    "    df['Avg F1 Score'] = pd.Series(avgs)\n",
    "    df['Std Err F1 Score'] = pd.Series(std_errs)\n",
    "    fig, ax = plt.subplots()\n",
    "    fig.set_size_inches(11.7, 8.27)\n",
    "    ax.set_autoscaley_on(False)\n",
    "    ax.set_ylim([0,1])\n",
    "    sn.barplot(data=df, x='Class Level', y='Avg F1 Score', ax=ax, yerr=df['Std Err F1 Score'])\n",
    "        \n",
    "def plot_acc(accs, acv, title):\n",
    "    pass\n",
    "    "
   ]
  },
  {
   "cell_type": "code",
   "execution_count": 47,
   "metadata": {
    "scrolled": false
   },
   "outputs": [
    {
     "data": {
      "text/plain": [
       "<matplotlib.figure.Figure at 0x7fa35afb9cf8>"
      ]
     },
     "execution_count": 47,
     "metadata": {},
     "output_type": "execute_result"
    },
    {
     "data": {
      "text/plain": [
       "<matplotlib.figure.Figure at 0x7fa35afb9cf8>"
      ]
     },
     "metadata": {},
     "output_type": "display_data"
    }
   ],
   "source": [
    "plt.figure(figsize = (100,70))"
   ]
  },
  {
   "cell_type": "code",
   "execution_count": 53,
   "metadata": {
    "scrolled": false
   },
   "outputs": [
    {
     "data": {
      "image/png": "[encoded data removed]",
      "text/plain": [
       "<matplotlib.figure.Figure at 0x7fa3666afd68>"
      ]
     },
     "metadata": {},
     "output_type": "display_data"
    },
    {
     "data": {
      "image/png": "[encoded data removed]",
      "text/plain": [
       "<matplotlib.figure.Figure at 0x7fa3666ca898>"
      ]
     },
     "metadata": {},
     "output_type": "display_data"
    },
    {
     "data": {
      "image/png": "[encoded data removed]",
      "text/plain": [
       "<matplotlib.figure.Figure at 0x7fa36d353438>"
      ]
     },
     "metadata": {},
     "output_type": "display_data"
    }
   ],
   "source": [
    "plot_prec(valid_evals,acv)\n",
    "plot_recall(valid_evals,acv)\n",
    "plot_f1(valid_evals,acv)"
   ]
  },
  {
   "cell_type": "code",
   "execution_count": null,
   "metadata": {
    "collapsed": true
   },
   "outputs": [],
   "source": []
  }
 ],
 "metadata": {
  "kernelspec": {
   "display_name": "Python [conda env:insight_env]",
   "language": "python",
   "name": "conda-env-insight_env-py"
  },
  "language_info": {
   "codemirror_mode": {
    "name": "ipython",
    "version": 3
   },
   "file_extension": ".py",
   "mimetype": "text/x-python",
   "name": "python",
   "nbconvert_exporter": "python",
   "pygments_lexer": "ipython3",
   "version": "3.6.2"
  }
 },
 "nbformat": 4,
 "nbformat_minor": 2
}
