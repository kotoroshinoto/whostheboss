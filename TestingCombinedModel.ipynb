{
 "cells": [
  {
   "cell_type": "code",
   "execution_count": 1,
   "metadata": {},
   "outputs": [],
   "source": [
    "from scribe_classifier.data.canada import AllCodes, TitleSet, SimpleModel, CombinedModels\n",
    "from sklearn import metrics"
   ]
  },
  {
   "cell_type": "code",
   "execution_count": 2,
   "metadata": {},
   "outputs": [
    {
     "name": "stdout",
     "output_type": "stream",
     "text": [
      "training encoder on: 00, 01, 02, 03, 04, 05, 06, 07, 08, 09, 11, 12, 13, 14, 15, 21, 22, 30, 31, 32, 34, 40, 41, 42, 43, 44, 51, 52, 62, 63, 64, 65, 66, 67, 72, 73, 74, 75, 76, 82, 84, 86, 92, 94, 95, 96, NA\n"
     ]
    }
   ],
   "source": [
    "all_codes = AllCodes.load_from_pickle(\"source_data/pickles/canada/tidy_sets/all_codes.P\", is_path=True)\n",
    "\n",
    "target_level = 2\n",
    "emptyset_label = \"NA\"\n",
    "\n",
    "mdl_sgd = SimpleModel.load_from_pickle(\"source_data/pickles/canada/trained_models/simple.lvl%d.P\" % target_level,is_path=True)\n",
    "mdl_nb = SimpleModel.load_from_pickle(\"source_data/pickles/canada/trained_models/simple.lvl%d.bayes.P\" % target_level,is_path=True)\n",
    "cmb_mdl = CombinedModels(\n",
    "    target_level=target_level, \n",
    "    emptyset_label=\"NA\",\n",
    "    trained_simple_sgd=mdl_sgd, \n",
    "    trained_simple_multinom_nb=mdl_nb, \n",
    "    all_codes=all_codes)"
   ]
  },
  {
   "cell_type": "code",
   "execution_count": 3,
   "metadata": {},
   "outputs": [],
   "source": [
    "test = TitleSet.load_from_pickle('source_data/pickles/canada/test_sets/test.set.lvl%d.P' % target_level, is_path=True)\n",
    "valid = TitleSet.load_from_pickle('source_data/pickles/canada/test_sets/valid.set.lvl%d.P' % target_level, is_path=True)\n",
    "train = TitleSet.load_from_pickle('source_data/pickles/canada/test_sets/train.set.lvl%d.P' % target_level, is_path=True)\n",
    "\n",
    "valid = valid.copy_and_append_empty_string_class(label=emptyset_label, prop_records=0.25)\n",
    "test = test.copy_and_append_empty_string_class(label=emptyset_label, prop_records=0.25)"
   ]
  },
  {
   "cell_type": "code",
   "execution_count": 4,
   "metadata": {},
   "outputs": [
    {
     "data": {
      "text/plain": [
       "CombinedModels(all_codes=None, emptyset_label='NA', target_level=2,\n",
       "        trained_simple_multinom_nb=SimpleModel(emptyset_label='NA', target_level=2, use_bayes=True),\n",
       "        trained_simple_sgd=SimpleModel(emptyset_label='NA', target_level=2, use_bayes=False))"
      ]
     },
     "execution_count": 4,
     "metadata": {},
     "output_type": "execute_result"
    }
   ],
   "source": [
    "cmb_mdl.fit_titleset(train)"
   ]
  },
  {
   "cell_type": "code",
   "execution_count": 5,
   "metadata": {},
   "outputs": [
    {
     "data": {
      "text/plain": [
       "array(['9', '9', '3', ..., '9', '9', '9'],\n",
       "      dtype='<U1')"
      ]
     },
     "execution_count": 5,
     "metadata": {},
     "output_type": "execute_result"
    }
   ],
   "source": [
    "valid_pred = cmb_mdl.predict_titleset(valid)\n",
    "test_pred = cmb_mdl.predict_titleset(test)\n",
    "valid_pred"
   ]
  },
  {
   "cell_type": "code",
   "execution_count": 6,
   "metadata": {},
   "outputs": [
    {
     "name": "stdout",
     "output_type": "stream",
     "text": [
      "Validation Set:\n",
      "             precision    recall  f1-score   support\n",
      "\n",
      "          0       0.00      0.00      0.00         0\n",
      "         00       0.00      0.00      0.00        82\n",
      "         01       0.00      0.00      0.00       131\n",
      "         02       0.00      0.00      0.00        41\n",
      "         03       0.00      0.00      0.00        26\n",
      "         04       0.00      0.00      0.00       153\n",
      "         05       0.00      0.00      0.00        57\n",
      "         06       0.00      0.00      0.00        75\n",
      "         07       0.00      0.00      0.00        60\n",
      "         08       0.00      0.00      0.00        44\n",
      "         09       0.00      0.00      0.00        36\n",
      "          1       0.00      0.00      0.00         0\n",
      "         11       0.00      0.00      0.00        97\n",
      "         12       0.00      0.00      0.00       167\n",
      "         13       0.00      0.00      0.00        29\n",
      "         14       0.00      0.00      0.00       107\n",
      "         15       0.00      0.00      0.00        72\n",
      "          2       0.00      0.00      0.00         0\n",
      "         21       0.00      0.00      0.00       238\n",
      "         22       0.00      0.00      0.00       384\n",
      "          3       0.00      0.00      0.00         0\n",
      "         30       0.00      0.00      0.00        34\n",
      "         31       0.00      0.00      0.00       111\n",
      "         32       0.00      0.00      0.00       161\n",
      "         34       0.00      0.00      0.00        50\n",
      "          4       0.00      0.00      0.00         0\n",
      "         40       0.00      0.00      0.00       110\n",
      "         41       0.00      0.00      0.00       214\n",
      "         42       0.00      0.00      0.00        65\n",
      "         43       0.00      0.00      0.00        25\n",
      "         44       0.00      0.00      0.00        34\n",
      "          5       0.00      0.00      0.00         0\n",
      "         51       0.00      0.00      0.00       128\n",
      "         52       0.00      0.00      0.00       266\n",
      "          6       0.00      0.00      0.00         0\n",
      "         62       0.00      0.00      0.00        59\n",
      "         63       0.00      0.00      0.00        91\n",
      "         64       0.00      0.00      0.00        88\n",
      "         65       0.00      0.00      0.00       141\n",
      "         66       0.00      0.00      0.00        24\n",
      "         67       0.00      0.00      0.00       125\n",
      "          7       0.00      0.00      0.00         0\n",
      "         72       0.00      0.00      0.00       398\n",
      "         73       0.00      0.00      0.00       411\n",
      "         74       0.00      0.00      0.00       124\n",
      "         75       0.00      0.00      0.00       129\n",
      "         76       0.00      0.00      0.00       115\n",
      "          8       0.00      0.00      0.00         0\n",
      "         82       0.00      0.00      0.00       118\n",
      "         84       0.00      0.00      0.00        88\n",
      "         86       0.00      0.00      0.00        50\n",
      "          9       0.00      0.00      0.00         0\n",
      "         92       0.00      0.00      0.00       339\n",
      "         94       0.00      0.00      0.00      1109\n",
      "         95       0.00      0.00      0.00       598\n",
      "         96       0.00      0.00      0.00       305\n",
      "         NA       0.00      0.00      0.00      1827\n",
      "\n",
      "avg / total       0.00      0.00      0.00      9136\n",
      "\n"
     ]
    },
    {
     "name": "stderr",
     "output_type": "stream",
     "text": [
      "/home/mgooch/anaconda3/envs/insight_env/lib/python3.6/site-packages/sklearn/metrics/classification.py:1135: UndefinedMetricWarning: Precision and F-score are ill-defined and being set to 0.0 in labels with no predicted samples.\n",
      "  'precision', 'predicted', average, warn_for)\n",
      "/home/mgooch/anaconda3/envs/insight_env/lib/python3.6/site-packages/sklearn/metrics/classification.py:1137: UndefinedMetricWarning: Recall and F-score are ill-defined and being set to 0.0 in labels with no true samples.\n",
      "  'recall', 'true', average, warn_for)\n"
     ]
    }
   ],
   "source": [
    "print(\"Validation Set:\")\n",
    "print(metrics.classification_report(valid.get_code_vec(target_level=target_level), valid_pred))\n",
    "# print(metrics.confusion_matrix(valid.Y, valid_pred))"
   ]
  },
  {
   "cell_type": "code",
   "execution_count": 7,
   "metadata": {},
   "outputs": [
    {
     "name": "stdout",
     "output_type": "stream",
     "text": [
      "Test Set:\n",
      "             precision    recall  f1-score   support\n",
      "\n",
      "          0       0.00      0.00      0.00         0\n",
      "         00       0.00      0.00      0.00        82\n",
      "         01       0.00      0.00      0.00       130\n",
      "         02       0.00      0.00      0.00        40\n",
      "         03       0.00      0.00      0.00        26\n",
      "         04       0.00      0.00      0.00       153\n",
      "         05       0.00      0.00      0.00        58\n",
      "         06       0.00      0.00      0.00        76\n",
      "         07       0.00      0.00      0.00        60\n",
      "         08       0.00      0.00      0.00        44\n",
      "         09       0.00      0.00      0.00        36\n",
      "          1       0.00      0.00      0.00         0\n",
      "         11       0.00      0.00      0.00        96\n",
      "         12       0.00      0.00      0.00       168\n",
      "         13       0.00      0.00      0.00        29\n",
      "         14       0.00      0.00      0.00       106\n",
      "         15       0.00      0.00      0.00        71\n",
      "          2       0.00      0.00      0.00         0\n",
      "         21       0.00      0.00      0.00       239\n",
      "         22       0.00      0.00      0.00       383\n",
      "          3       0.00      0.00      0.00         0\n",
      "         30       0.00      0.00      0.00        34\n",
      "         31       0.00      0.00      0.00       111\n",
      "         32       0.00      0.00      0.00       161\n",
      "         34       0.00      0.00      0.00        50\n",
      "          4       0.00      0.00      0.00         0\n",
      "         40       0.00      0.00      0.00       110\n",
      "         41       0.00      0.00      0.00       215\n",
      "         42       0.00      0.00      0.00        66\n",
      "         43       0.00      0.00      0.00        26\n",
      "         44       0.00      0.00      0.00        34\n",
      "          5       0.00      0.00      0.00         0\n",
      "         51       0.00      0.00      0.00       127\n",
      "         52       0.00      0.00      0.00       265\n",
      "          6       0.00      0.00      0.00         0\n",
      "         62       0.00      0.00      0.00        58\n",
      "         63       0.00      0.00      0.00        91\n",
      "         64       0.00      0.00      0.00        87\n",
      "         65       0.00      0.00      0.00       141\n",
      "         66       0.00      0.00      0.00        23\n",
      "         67       0.00      0.00      0.00       126\n",
      "          7       0.00      0.00      0.00         0\n",
      "         72       0.00      0.00      0.00       398\n",
      "         73       0.00      0.00      0.00       411\n",
      "         74       0.00      0.00      0.00       124\n",
      "         75       0.00      0.00      0.00       129\n",
      "         76       0.00      0.00      0.00       116\n",
      "          8       0.00      0.00      0.00         0\n",
      "         82       0.00      0.00      0.00       118\n",
      "         84       0.00      0.00      0.00        88\n",
      "         86       0.00      0.00      0.00        50\n",
      "          9       0.00      0.00      0.00         0\n",
      "         92       0.00      0.00      0.00       339\n",
      "         94       0.00      0.00      0.00      1110\n",
      "         95       0.00      0.00      0.00       599\n",
      "         96       0.00      0.00      0.00       305\n",
      "         NA       0.00      0.00      0.00      1827\n",
      "\n",
      "avg / total       0.00      0.00      0.00      9136\n",
      "\n"
     ]
    },
    {
     "name": "stderr",
     "output_type": "stream",
     "text": [
      "/home/mgooch/anaconda3/envs/insight_env/lib/python3.6/site-packages/sklearn/metrics/classification.py:1135: UndefinedMetricWarning: Precision and F-score are ill-defined and being set to 0.0 in labels with no predicted samples.\n",
      "  'precision', 'predicted', average, warn_for)\n",
      "/home/mgooch/anaconda3/envs/insight_env/lib/python3.6/site-packages/sklearn/metrics/classification.py:1137: UndefinedMetricWarning: Recall and F-score are ill-defined and being set to 0.0 in labels with no true samples.\n",
      "  'recall', 'true', average, warn_for)\n"
     ]
    }
   ],
   "source": [
    "print(\"Test Set:\")\n",
    "print(metrics.classification_report(test.get_code_vec(target_level=target_level), test_pred))"
   ]
  },
  {
   "cell_type": "code",
   "execution_count": null,
   "metadata": {
    "collapsed": true
   },
   "outputs": [],
   "source": []
  }
 ],
 "metadata": {
  "kernelspec": {
   "display_name": "Python [conda env:insight_env]",
   "language": "python",
   "name": "conda-env-insight_env-py"
  },
  "language_info": {
   "codemirror_mode": {
    "name": "ipython",
    "version": 3
   },
   "file_extension": ".py",
   "mimetype": "text/x-python",
   "name": "python",
   "nbconvert_exporter": "python",
   "pygments_lexer": "ipython3",
   "version": "3.6.2"
  }
 },
 "nbformat": 4,
 "nbformat_minor": 2
}
