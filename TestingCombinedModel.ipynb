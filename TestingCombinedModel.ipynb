{
 "cells": [
  {
   "cell_type": "code",
   "execution_count": 1,
   "metadata": {},
   "outputs": [],
   "source": [
    "from scribe_classifier.data.canada import AllCodes, TitleSet, SimpleModel, CombinedModels\n",
    "from sklearn import metrics"
   ]
  },
  {
   "cell_type": "code",
   "execution_count": 2,
   "metadata": {},
   "outputs": [],
   "source": [
    "all_codes = AllCodes.load_from_pickle(\"./source_data/pickles/canada/tidy_sets/all_codes.P\", is_path=True)\n",
    "\n",
    "target_level = 3\n",
    "emptyset_label = \"NA\"\n",
    "\n",
    "mdl_sgd = SimpleModel.load_from_pickle(\n",
    "    \"./source_data/pickles/canada/trained_models/simple.lvl%d.P\" % target_level,\n",
    "    is_path=True\n",
    ")\n",
    "mdl_nb = SimpleModel.load_from_pickle(\n",
    "    \"./source_data/pickles/canada/trained_models/simple.lvl%d.bayes.P\" % target_level,\n",
    "    is_path=True\n",
    ")"
   ]
  },
  {
   "cell_type": "code",
   "execution_count": 3,
   "metadata": {
    "collapsed": true
   },
   "outputs": [],
   "source": [
    "test = TitleSet.load_from_pickle('source_data/pickles/canada/test_sets/test.set.lvl%d.P' % target_level, is_path=True)\n",
    "valid = TitleSet.load_from_pickle('source_data/pickles/canada/test_sets/valid.set.lvl%d.P' % target_level, is_path=True)\n",
    "train = TitleSet.load_from_pickle('source_data/pickles/canada/test_sets/train.set.lvl%d.P' % target_level, is_path=True)\n",
    "\n",
    "valid = valid.copy_and_append_empty_string_class(label=emptyset_label, prop_records=0.25)\n",
    "test = test.copy_and_append_empty_string_class(label=emptyset_label, prop_records=0.25)"
   ]
  },
  {
   "cell_type": "code",
   "execution_count": null,
   "metadata": {
    "collapsed": true
   },
   "outputs": [],
   "source": [
    "cmb_mdl = CombinedModels(\n",
    "    target_level=target_level, \n",
    "    emptyset_label=\"NA\",\n",
    "    trained_simple_sgd=mdl_sgd, \n",
    "    trained_simple_multinom_nb=mdl_nb, \n",
    "    all_codes=all_codes)\n",
    "cmb_mdl.fit_titleset(train)"
   ]
  },
  {
   "cell_type": "code",
   "execution_count": null,
   "metadata": {
    "collapsed": true,
    "scrolled": false
   },
   "outputs": [],
   "source": [
    "valid_pred = cmb_mdl.predict_titleset(valid)\n",
    "test_pred = cmb_mdl.predict_titleset(test)\n",
    "print(valid_pred)\n",
    "# print(valid.get_code_vec(target_level=target_level))\n",
    "print(test_pred)\n",
    "# print(test.get_code_vec(target_level=target_level))"
   ]
  },
  {
   "cell_type": "code",
   "execution_count": null,
   "metadata": {
    "collapsed": true
   },
   "outputs": [],
   "source": [
    "print(\"Validation Set:\")\n",
    "print(metrics.classification_report(valid.get_code_vec(target_level=target_level), valid_pred))\n",
    "# print(metrics.confusion_matrix(valid.Y, valid_pred))"
   ]
  },
  {
   "cell_type": "code",
   "execution_count": null,
   "metadata": {
    "collapsed": true
   },
   "outputs": [],
   "source": [
    "print(\"Test Set:\")\n",
    "print(metrics.classification_report(test.get_code_vec(target_level=target_level), test_pred))"
   ]
  },
  {
   "cell_type": "code",
   "execution_count": null,
   "metadata": {
    "collapsed": true
   },
   "outputs": [],
   "source": []
  }
 ],
 "metadata": {
  "kernelspec": {
   "display_name": "Python [conda env:insight_env]",
   "language": "python",
   "name": "conda-env-insight_env-py"
  },
  "language_info": {
   "codemirror_mode": {
    "name": "ipython",
    "version": 3
   },
   "file_extension": ".py",
   "mimetype": "text/x-python",
   "name": "python",
   "nbconvert_exporter": "python",
   "pygments_lexer": "ipython3",
   "version": "3.6.2"
  }
 },
 "nbformat": 4,
 "nbformat_minor": 2
}
